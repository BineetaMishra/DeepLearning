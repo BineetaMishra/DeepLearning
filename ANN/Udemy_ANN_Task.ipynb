{
  "nbformat": 4,
  "nbformat_minor": 0,
  "metadata": {
    "accelerator": "GPU",
    "colab": {
      "name": "Udemy_ANN_Task.ipynb",
      "provenance": [],
      "collapsed_sections": [
        "95ptbMo8PTvS"
      ],
      "toc_visible": true,
      "mount_file_id": "1b-KYs27ZSfsZHcgnldNCpYxZVG805Gxx",
      "authorship_tag": "ABX9TyMkL9iodg0Y0nvuNQOJfClo",
      "include_colab_link": true
    },
    "kernelspec": {
      "display_name": "Python 3",
      "name": "python3"
    }
  },
  "cells": [
    {
      "cell_type": "markdown",
      "metadata": {
        "id": "view-in-github",
        "colab_type": "text"
      },
      "source": [
        "<a href=\"https://colab.research.google.com/github/BineetaMishra/DeepLearning/blob/main/Udemy_ANN_Task.ipynb\" target=\"_parent\"><img src=\"https://colab.research.google.com/assets/colab-badge.svg\" alt=\"Open In Colab\"/></a>"
      ]
    },
    {
      "cell_type": "markdown",
      "metadata": {
        "id": "dK8lnHAWBjAb"
      },
      "source": [
        "***ARTIFICIAL NEURAL NETWORK***\r\n",
        "***CLASSIFICATION CASE.***\r\n"
      ]
    },
    {
      "cell_type": "markdown",
      "metadata": {
        "id": "sjpcD8HoDCMY"
      },
      "source": [
        "***Importing the Libraries***"
      ]
    },
    {
      "cell_type": "code",
      "metadata": {
        "id": "y5Qo-AF9DFvL"
      },
      "source": [
        "import numpy as np\r\n",
        "import pandas as pd\r\n",
        "import tensorflow as tf"
      ],
      "execution_count": 34,
      "outputs": []
    },
    {
      "cell_type": "code",
      "metadata": {
        "colab": {
          "base_uri": "https://localhost:8080/",
          "height": 35
        },
        "id": "QoSekLN3DNxo",
        "outputId": "7ee17ad5-5882-4050-d46b-780502ea708b"
      },
      "source": [
        "#To check if it is using a tensorflow version greater than or equal  2.0\r\n",
        "tf.__version__ "
      ],
      "execution_count": 35,
      "outputs": [
        {
          "output_type": "execute_result",
          "data": {
            "application/vnd.google.colaboratory.intrinsic+json": {
              "type": "string"
            },
            "text/plain": [
              "'2.4.0'"
            ]
          },
          "metadata": {
            "tags": []
          },
          "execution_count": 35
        }
      ]
    },
    {
      "cell_type": "markdown",
      "metadata": {
        "id": "TcEaA2GYDaFO"
      },
      "source": [
        "# ***Part1:***\r\n",
        "***DATA PREPROCESSING***"
      ]
    },
    {
      "cell_type": "code",
      "metadata": {
        "id": "LSbWZPO7_5O8"
      },
      "source": [
        "# Importing the dataset. assigning x as in-dependent variable and y as dependent variable\r\n",
        "dataset = pd.read_csv('/content/drive/MyDrive/Dataset/Churn_Modelling.csv')\r\n",
        "x= dataset.iloc[:, 3:-1].values\r\n",
        "y= dataset.iloc[:, -1].values"
      ],
      "execution_count": 36,
      "outputs": []
    },
    {
      "cell_type": "code",
      "metadata": {
        "colab": {
          "base_uri": "https://localhost:8080/"
        },
        "id": "Mfxnv52JXibF",
        "outputId": "8bf1cbec-5bac-4a6a-b2b9-41f3c1254b06"
      },
      "source": [
        "print(x)"
      ],
      "execution_count": 37,
      "outputs": [
        {
          "output_type": "stream",
          "text": [
            "[[619 'France' 'Female' ... 1 1 101348.88]\n",
            " [608 'Spain' 'Female' ... 0 1 112542.58]\n",
            " [502 'France' 'Female' ... 1 0 113931.57]\n",
            " ...\n",
            " [709 'France' 'Female' ... 0 1 42085.58]\n",
            " [772 'Germany' 'Male' ... 1 0 92888.52]\n",
            " [792 'France' 'Female' ... 1 0 38190.78]]\n"
          ],
          "name": "stdout"
        }
      ]
    },
    {
      "cell_type": "markdown",
      "metadata": {
        "id": "MUSXn80TEAH-"
      },
      "source": [
        "***Encoding the Categorical Data.***\r\n",
        "\r\n",
        "There are 2 categorical variables:\r\n",
        "1. Geography\r\n",
        "2. Gender"
      ]
    },
    {
      "cell_type": "code",
      "metadata": {
        "id": "bGCYVJOZDqo5"
      },
      "source": [
        "# LABEL ENCODING THE GENDER COLUMN\r\n",
        "from sklearn.preprocessing import LabelEncoder\r\n",
        "le= LabelEncoder() # le is instance of the LabelEncoder class\r\n",
        "x[:, 2]= le.fit_transform(x[:, 2])"
      ],
      "execution_count": 38,
      "outputs": []
    },
    {
      "cell_type": "code",
      "metadata": {
        "id": "7NsliPlzHtnW"
      },
      "source": [
        "#One Hot Encoding for the Geography column\r\n",
        "# One Hot encoding is performed because there is no connection betwwen\r\n",
        "#France, Spain and Germany\r\n",
        "from sklearn.compose import ColumnTransformer\r\n",
        "from sklearn.preprocessing import OneHotEncoder\r\n",
        "ct = ColumnTransformer(transformers=[('encoder', OneHotEncoder(), [1])], remainder='passthrough') \r\n",
        "X= np.array(ct.fit_transform(x))"
      ],
      "execution_count": 39,
      "outputs": []
    },
    {
      "cell_type": "code",
      "metadata": {
        "colab": {
          "base_uri": "https://localhost:8080/"
        },
        "id": "XQtpV-wiJN_u",
        "outputId": "d87438b4-d76d-411d-f191-44eeb20b0b5f"
      },
      "source": [
        "print(X)"
      ],
      "execution_count": 40,
      "outputs": [
        {
          "output_type": "stream",
          "text": [
            "[[1.0 0.0 0.0 ... 1 1 101348.88]\n",
            " [0.0 0.0 1.0 ... 0 1 112542.58]\n",
            " [1.0 0.0 0.0 ... 1 0 113931.57]\n",
            " ...\n",
            " [1.0 0.0 0.0 ... 0 1 42085.58]\n",
            " [0.0 1.0 0.0 ... 1 0 92888.52]\n",
            " [1.0 0.0 0.0 ... 1 0 38190.78]]\n"
          ],
          "name": "stdout"
        }
      ]
    },
    {
      "cell_type": "markdown",
      "metadata": {
        "id": "2ZR7uuE-JXND"
      },
      "source": [
        "Splitting the dataset into Training and Test set."
      ]
    },
    {
      "cell_type": "code",
      "metadata": {
        "id": "sz1ytQwnJPa1"
      },
      "source": [
        "from sklearn.model_selection import train_test_split\r\n",
        "x_train, x_test, y_train, y_test= train_test_split(X, y, test_size=0.2, random_state=0)"
      ],
      "execution_count": 41,
      "outputs": []
    },
    {
      "cell_type": "code",
      "metadata": {
        "id": "Re0aOmvWJ0se"
      },
      "source": [
        "# FEATURE SCALING. THIS IS COMPULSARY FOR DL\r\n",
        "from sklearn.preprocessing import StandardScaler\r\n",
        "sc= StandardScaler()\r\n",
        "x_train= sc.fit_transform(x_train)\r\n",
        "x_test= sc.transform(x_test)"
      ],
      "execution_count": 42,
      "outputs": []
    },
    {
      "cell_type": "code",
      "metadata": {
        "colab": {
          "base_uri": "https://localhost:8080/"
        },
        "id": "c5nQtJVUdtAV",
        "outputId": "58affaf4-577f-4e66-807f-cec90e9df76f"
      },
      "source": [
        "print(x_test)"
      ],
      "execution_count": 60,
      "outputs": [
        {
          "output_type": "stream",
          "text": [
            "[[-1.01460667  1.75486502 -0.57369368 ...  0.64259497  0.9687384\n",
            "   1.61085707]\n",
            " [ 0.98560362 -0.5698444  -0.57369368 ...  0.64259497 -1.03227043\n",
            "   0.49587037]\n",
            " [-1.01460667 -0.5698444   1.74309049 ...  0.64259497  0.9687384\n",
            "  -0.42478674]\n",
            " ...\n",
            " [-1.01460667 -0.5698444   1.74309049 ...  0.64259497 -1.03227043\n",
            "   0.71888467]\n",
            " [-1.01460667  1.75486502 -0.57369368 ...  0.64259497  0.9687384\n",
            "  -1.54507805]\n",
            " [-1.01460667  1.75486502 -0.57369368 ...  0.64259497 -1.03227043\n",
            "   1.61255917]]\n"
          ],
          "name": "stdout"
        }
      ]
    },
    {
      "cell_type": "markdown",
      "metadata": {
        "id": "l8nLjfl8KUu8"
      },
      "source": [
        "# ***PART 2: BUILDING THE ANN***"
      ]
    },
    {
      "cell_type": "code",
      "metadata": {
        "id": "RbvezYPHJwsP"
      },
      "source": [
        "# INITIALIZING THE ANN\r\n",
        "#CREATING A ANN VARIABLE\r\n",
        "ann = tf.keras.models.Sequential() #Sequential class is taken from keras library"
      ],
      "execution_count": 43,
      "outputs": []
    },
    {
      "cell_type": "code",
      "metadata": {
        "id": "RTSW3u_1KjJ4"
      },
      "source": [
        "#ADDING THE INPUT LAYER AND THE FIRST HIDDEN LAYER\r\n",
        "#the fully connected layer that we are creating is an object of the Dense Class\r\n",
        "#ann.add(tf.keras.layers.Dense(units(#no.of hidden neurons we want in input layer.)))\r\n",
        "ann.add(tf.keras.layers.Dense(units=6, activation='relu'))"
      ],
      "execution_count": 44,
      "outputs": []
    },
    {
      "cell_type": "code",
      "metadata": {
        "id": "SRzYhAF4KqkY"
      },
      "source": [
        "#ADDING THE SECOND HIDDEN LAYER\r\n",
        "ann.add(tf.keras.layers.Dense(units=6, activation='relu'))"
      ],
      "execution_count": 45,
      "outputs": []
    },
    {
      "cell_type": "code",
      "metadata": {
        "id": "Humww2n9KvXe"
      },
      "source": [
        "#ADDING THE OUTPUT LAYER. AF=sigmoid because it will get the probability of binary outcome.\r\n",
        "ann.add(tf.keras.layers.Dense(units=1, activation='sigmoid'))"
      ],
      "execution_count": 46,
      "outputs": []
    },
    {
      "cell_type": "markdown",
      "metadata": {
        "id": "eW57F7TbNHjV"
      },
      "source": [
        "# ***PART 3: TRAINING THE ANN***\r\n",
        "\r\n",
        "Compile the ANN with an optimizer, loss function and metrics."
      ]
    },
    {
      "cell_type": "code",
      "metadata": {
        "id": "tOER1eizNEWo"
      },
      "source": [
        "#Compiling the ANN, it has 3 paramets: optimizer, loss, metrics\r\n",
        "#binary classification the loss function should be binary_crossentropy, and non binary is categorical_crossentropy\r\n",
        "#metrics goes in a [] because we can use many diff types of metrics and it should be entered as a list.\r\n",
        "ann.compile(optimizer='adam', loss='binary_crossentropy' , metrics=['accuracy'])"
      ],
      "execution_count": 47,
      "outputs": []
    },
    {
      "cell_type": "code",
      "metadata": {
        "id": "UqrRp_TwOUsZ",
        "colab": {
          "base_uri": "https://localhost:8080/"
        },
        "outputId": "39041287-a50f-40d5-b59b-6f1c714e89c5"
      },
      "source": [
        "#TRAINING TEH ANN ON THE Training Set.\r\n",
        "#Method to change any training model is the fit method\r\n",
        "# batch training is always more efficient in ANN. 32 is default value\r\n",
        "ann.fit(x_train, y_train, batch_size= 32, epochs=10)"
      ],
      "execution_count": 48,
      "outputs": [
        {
          "output_type": "stream",
          "text": [
            "Epoch 1/10\n",
            "250/250 [==============================] - 1s 2ms/step - loss: 0.5773 - accuracy: 0.7373\n",
            "Epoch 2/10\n",
            "250/250 [==============================] - 0s 2ms/step - loss: 0.4632 - accuracy: 0.8009\n",
            "Epoch 3/10\n",
            "250/250 [==============================] - 0s 2ms/step - loss: 0.4586 - accuracy: 0.7925\n",
            "Epoch 4/10\n",
            "250/250 [==============================] - 0s 2ms/step - loss: 0.4469 - accuracy: 0.7902\n",
            "Epoch 5/10\n",
            "250/250 [==============================] - 0s 2ms/step - loss: 0.4185 - accuracy: 0.8051\n",
            "Epoch 6/10\n",
            "250/250 [==============================] - 0s 2ms/step - loss: 0.4208 - accuracy: 0.8104\n",
            "Epoch 7/10\n",
            "250/250 [==============================] - 0s 2ms/step - loss: 0.4291 - accuracy: 0.8057\n",
            "Epoch 8/10\n",
            "250/250 [==============================] - 0s 2ms/step - loss: 0.4276 - accuracy: 0.8054\n",
            "Epoch 9/10\n",
            "250/250 [==============================] - 0s 2ms/step - loss: 0.4125 - accuracy: 0.8141\n",
            "Epoch 10/10\n",
            "250/250 [==============================] - 0s 2ms/step - loss: 0.4260 - accuracy: 0.8013\n"
          ],
          "name": "stdout"
        },
        {
          "output_type": "execute_result",
          "data": {
            "text/plain": [
              "<tensorflow.python.keras.callbacks.History at 0x7f8e68798a58>"
            ]
          },
          "metadata": {
            "tags": []
          },
          "execution_count": 48
        }
      ]
    },
    {
      "cell_type": "markdown",
      "metadata": {
        "id": "jy1itzhEO1E6"
      },
      "source": [
        "# ***PART 4: MAKING THE PREDICTIONS.***"
      ]
    },
    {
      "cell_type": "code",
      "metadata": {
        "colab": {
          "base_uri": "https://localhost:8080/"
        },
        "id": "_PF3WbQkOx46",
        "outputId": "19b6ab59-95b7-47b7-ddc7-02ac3717897f"
      },
      "source": [
        "# Predicting the test result\r\n",
        "y_pred= ann.predict(x_test)\r\n",
        "y_pred = (y_pred > 0.5)\r\n",
        "print(np.concatenate((y_pred.reshape(len(y_pred),1), y_test.reshape(len(y_test),1)),1))"
      ],
      "execution_count": 65,
      "outputs": [
        {
          "output_type": "stream",
          "text": [
            "[[0 0]\n",
            " [0 1]\n",
            " [0 0]\n",
            " ...\n",
            " [0 0]\n",
            " [0 0]\n",
            " [0 0]]\n"
          ],
          "name": "stdout"
        }
      ]
    },
    {
      "cell_type": "code",
      "metadata": {
        "colab": {
          "base_uri": "https://localhost:8080/"
        },
        "id": "UqJhCHntc6u_",
        "outputId": "a6fa0f57-bf39-4dd9-86e1-4cf7a80d37e4"
      },
      "source": [
        "print(y_pred)"
      ],
      "execution_count": 66,
      "outputs": [
        {
          "output_type": "stream",
          "text": [
            "[[False]\n",
            " [False]\n",
            " [False]\n",
            " ...\n",
            " [False]\n",
            " [False]\n",
            " [False]]\n"
          ],
          "name": "stdout"
        }
      ]
    },
    {
      "cell_type": "code",
      "metadata": {
        "id": "kglrmPoGVnNJ",
        "colab": {
          "base_uri": "https://localhost:8080/"
        },
        "outputId": "2bc86de4-7e6e-4ec9-c9ad-6b5939270e03"
      },
      "source": [
        "# Making the confusion matrix\r\n",
        "from sklearn.metrics import confusion_matrix, accuracy_score\r\n",
        "cm = confusion_matrix(y_test, y_pred)\r\n",
        "print(cm)\r\n",
        "accuracy_score(y_test, y_pred)"
      ],
      "execution_count": 67,
      "outputs": [
        {
          "output_type": "stream",
          "text": [
            "[[1525   70]\n",
            " [ 287  118]]\n"
          ],
          "name": "stdout"
        },
        {
          "output_type": "execute_result",
          "data": {
            "text/plain": [
              "0.8215"
            ]
          },
          "metadata": {
            "tags": []
          },
          "execution_count": 67
        }
      ]
    },
    {
      "cell_type": "markdown",
      "metadata": {
        "id": "95ptbMo8PTvS"
      },
      "source": [
        "# PREDICTING THE RESULT ON SINGLE OBSERVATION\r\n",
        "\r\n",
        "Use our ANN model to predict if the cutomer with following information will leave the bank:\r\n",
        "\r\n"
      ]
    },
    {
      "cell_type": "markdown",
      "metadata": {
        "id": "KnTTwae2P1m4"
      },
      "source": [
        "solution:\r\n",
        "Important Note 1: notice that teh values of teh features were all input in a double pair of square brackets. That's because the predict method always expects a 2D array as the format of it's input. And putting our values in a double pair of square bracketsmakes the input exactly a 2D array.\r\n",
        "Be careful of the Dummy variable\r\n",
        "Remember to apply scaling.\r\n",
        "Important Note 2: Notice also that the 'France' country was not input as a string in the last column but as \"1,0,0\" in the first three columns.\r\n",
        "That is because of course the predict method expects the one-not encoded values of the state, and as we see in te forst row of the matrix of features x, 'France' was encoded as \"1,0,0\". THE DUMMY VARIABLES ARE ALWAYS CREATED IN THE FIRST COLUMNS."
      ]
    },
    {
      "cell_type": "code",
      "metadata": {
        "id": "zpvGHWCzPXeF"
      },
      "source": [
        "ann.predict(sc.transform([[1, 0, 0, 600, 1, 40, 3, 60000, 2, 1, 1, 50000,]]))"
      ],
      "execution_count": null,
      "outputs": []
    }
  ]
}