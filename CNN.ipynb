{
  "nbformat": 4,
  "nbformat_minor": 0,
  "metadata": {
    "colab": {
      "name": "CNN.ipynb",
      "provenance": [],
      "collapsed_sections": []
    },
    "kernelspec": {
      "name": "python3",
      "display_name": "Python 3"
    }
  },
  "cells": [
    {
      "cell_type": "markdown",
      "metadata": {
        "id": "7dOOLiKMIska"
      },
      "source": [
        "*Create CNN Model and Optimize it Using Keras Tuner*"
      ]
    },
    {
      "cell_type": "code",
      "metadata": {
        "colab": {
          "base_uri": "https://localhost:8080/"
        },
        "id": "mF8pCZjyIozj",
        "outputId": "bebd84cf-bb40-4408-d1e5-8633ebf7d002"
      },
      "source": [
        "!pip install keras-tuner"
      ],
      "execution_count": null,
      "outputs": [
        {
          "output_type": "stream",
          "text": [
            "Collecting keras-tuner\n",
            "\u001b[?25l  Downloading https://files.pythonhosted.org/packages/20/ec/1ef246787174b1e2bb591c95f29d3c1310070cad877824f907faba3dade9/keras-tuner-1.0.2.tar.gz (62kB)\n",
            "\r\u001b[K     |█████▏                          | 10kB 13.0MB/s eta 0:00:01\r\u001b[K     |██████████▍                     | 20kB 18.3MB/s eta 0:00:01\r\u001b[K     |███████████████▋                | 30kB 12.0MB/s eta 0:00:01\r\u001b[K     |████████████████████▉           | 40kB 9.2MB/s eta 0:00:01\r\u001b[K     |██████████████████████████      | 51kB 4.5MB/s eta 0:00:01\r\u001b[K     |███████████████████████████████▎| 61kB 4.9MB/s eta 0:00:01\r\u001b[K     |████████████████████████████████| 71kB 3.7MB/s \n",
            "\u001b[?25hRequirement already satisfied: packaging in /usr/local/lib/python3.6/dist-packages (from keras-tuner) (20.8)\n",
            "Requirement already satisfied: future in /usr/local/lib/python3.6/dist-packages (from keras-tuner) (0.16.0)\n",
            "Requirement already satisfied: numpy in /usr/local/lib/python3.6/dist-packages (from keras-tuner) (1.19.4)\n",
            "Requirement already satisfied: tabulate in /usr/local/lib/python3.6/dist-packages (from keras-tuner) (0.8.7)\n",
            "Collecting terminaltables\n",
            "  Downloading https://files.pythonhosted.org/packages/9b/c4/4a21174f32f8a7e1104798c445dacdc1d4df86f2f26722767034e4de4bff/terminaltables-3.1.0.tar.gz\n",
            "Collecting colorama\n",
            "  Downloading https://files.pythonhosted.org/packages/44/98/5b86278fbbf250d239ae0ecb724f8572af1c91f4a11edf4d36a206189440/colorama-0.4.4-py2.py3-none-any.whl\n",
            "Requirement already satisfied: tqdm in /usr/local/lib/python3.6/dist-packages (from keras-tuner) (4.41.1)\n",
            "Requirement already satisfied: requests in /usr/local/lib/python3.6/dist-packages (from keras-tuner) (2.23.0)\n",
            "Requirement already satisfied: scipy in /usr/local/lib/python3.6/dist-packages (from keras-tuner) (1.4.1)\n",
            "Requirement already satisfied: scikit-learn in /usr/local/lib/python3.6/dist-packages (from keras-tuner) (0.22.2.post1)\n",
            "Requirement already satisfied: pyparsing>=2.0.2 in /usr/local/lib/python3.6/dist-packages (from packaging->keras-tuner) (2.4.7)\n",
            "Requirement already satisfied: idna<3,>=2.5 in /usr/local/lib/python3.6/dist-packages (from requests->keras-tuner) (2.10)\n",
            "Requirement already satisfied: chardet<4,>=3.0.2 in /usr/local/lib/python3.6/dist-packages (from requests->keras-tuner) (3.0.4)\n",
            "Requirement already satisfied: urllib3!=1.25.0,!=1.25.1,<1.26,>=1.21.1 in /usr/local/lib/python3.6/dist-packages (from requests->keras-tuner) (1.24.3)\n",
            "Requirement already satisfied: certifi>=2017.4.17 in /usr/local/lib/python3.6/dist-packages (from requests->keras-tuner) (2020.12.5)\n",
            "Requirement already satisfied: joblib>=0.11 in /usr/local/lib/python3.6/dist-packages (from scikit-learn->keras-tuner) (1.0.0)\n",
            "Building wheels for collected packages: keras-tuner, terminaltables\n",
            "  Building wheel for keras-tuner (setup.py) ... \u001b[?25l\u001b[?25hdone\n",
            "  Created wheel for keras-tuner: filename=keras_tuner-1.0.2-cp36-none-any.whl size=78939 sha256=e6c71c1f185822c60e774c380d7e8f9bcd71af424c63164f6a3b1f8008d2d59b\n",
            "  Stored in directory: /root/.cache/pip/wheels/bb/a1/8a/7c3de0efb3707a1701b36ebbfdbc4e67aedf6d4943a1f463d6\n",
            "  Building wheel for terminaltables (setup.py) ... \u001b[?25l\u001b[?25hdone\n",
            "  Created wheel for terminaltables: filename=terminaltables-3.1.0-cp36-none-any.whl size=15358 sha256=d7d5b12d76efd2089651ce2fdc9e49c9ec53e24d445115fc43c793546dbeced0\n",
            "  Stored in directory: /root/.cache/pip/wheels/30/6b/50/6c75775b681fb36cdfac7f19799888ef9d8813aff9e379663e\n",
            "Successfully built keras-tuner terminaltables\n",
            "Installing collected packages: terminaltables, colorama, keras-tuner\n",
            "Successfully installed colorama-0.4.4 keras-tuner-1.0.2 terminaltables-3.1.0\n"
          ],
          "name": "stdout"
        }
      ]
    },
    {
      "cell_type": "code",
      "metadata": {
        "id": "Hh6TrLXfP7qT"
      },
      "source": [
        "import tensorflow as tf\r\n",
        "from tensorflow import keras\r\n",
        "import numpy as np"
      ],
      "execution_count": null,
      "outputs": []
    },
    {
      "cell_type": "code",
      "metadata": {
        "colab": {
          "base_uri": "https://localhost:8080/"
        },
        "id": "pKdp4yOSQJrT",
        "outputId": "2e33bd26-ff4e-4de7-8de9-8ee6ecbeb21d"
      },
      "source": [
        "print(tf.__version__)"
      ],
      "execution_count": null,
      "outputs": [
        {
          "output_type": "stream",
          "text": [
            "2.4.0\n"
          ],
          "name": "stdout"
        }
      ]
    },
    {
      "cell_type": "code",
      "metadata": {
        "id": "fxI5ZSngQF6I"
      },
      "source": [
        "fashion_mnist=keras.datasets.fashion_mnist"
      ],
      "execution_count": null,
      "outputs": []
    },
    {
      "cell_type": "code",
      "metadata": {
        "colab": {
          "base_uri": "https://localhost:8080/"
        },
        "id": "f69CYBOMQhl1",
        "outputId": "bf5d503c-644e-449e-86cb-b25a9b04eaf5"
      },
      "source": [
        "(train_images,train_labels),(test_images,test_labels)= fashion_mnist.load_data()"
      ],
      "execution_count": null,
      "outputs": [
        {
          "output_type": "stream",
          "text": [
            "Downloading data from https://storage.googleapis.com/tensorflow/tf-keras-datasets/train-labels-idx1-ubyte.gz\n",
            "32768/29515 [=================================] - 0s 0us/step\n",
            "Downloading data from https://storage.googleapis.com/tensorflow/tf-keras-datasets/train-images-idx3-ubyte.gz\n",
            "26427392/26421880 [==============================] - 0s 0us/step\n",
            "Downloading data from https://storage.googleapis.com/tensorflow/tf-keras-datasets/t10k-labels-idx1-ubyte.gz\n",
            "8192/5148 [===============================================] - 0s 0us/step\n",
            "Downloading data from https://storage.googleapis.com/tensorflow/tf-keras-datasets/t10k-images-idx3-ubyte.gz\n",
            "4423680/4422102 [==============================] - 0s 0us/step\n"
          ],
          "name": "stdout"
        }
      ]
    },
    {
      "cell_type": "code",
      "metadata": {
        "id": "DSJQWM7mQwhN"
      },
      "source": [
        "## scaling down the images to 0 to 1. Where all pixels will be scaled from 0 to 1\r\n",
        "train_images=train_images/255.0\r\n",
        "test_images=test_images/255.0"
      ],
      "execution_count": null,
      "outputs": []
    },
    {
      "cell_type": "code",
      "metadata": {
        "id": "6NyPxwGRRGWP"
      },
      "source": [
        "train_images= train_images.reshape(len(train_images),28,28,1)\r\n",
        "test_images= test_images.reshape(len(test_images),28,28,1)"
      ],
      "execution_count": null,
      "outputs": []
    },
    {
      "cell_type": "code",
      "metadata": {
        "id": "0MuEfzwIRSSO"
      },
      "source": [
        "#create a function called build model\r\n",
        "def build_model(hp):\r\n",
        "  model = keras.Sequential([\r\n",
        "                            keras.layers.Conv2D(\r\n",
        "                                filters=hp.Int('conv1_filter', min_value=64, max_value=128, step=16),\r\n",
        "                                kernel_size=hp.Choice('conv1_kernel', values=[3,5]),\r\n",
        "                                activation='relu',\r\n",
        "                                input_shape=(28,28,1)\r\n",
        "                            ),\r\n",
        "                            keras.layers.Conv2D(\r\n",
        "                                filters=hp.Int('conv2_filter', min_value=32, max_value=128, step=16),\r\n",
        "                                kernel_size=hp.Choice('conv2_kernel', values=[3,5]),\r\n",
        "                                activation='relu',\r\n",
        "                            ),\r\n",
        "                            keras.layers.Flatten(),\r\n",
        "                            keras.layers.Dense(\r\n",
        "                                units=hp.Int('dense1_units', min_value=64, max_value=128, step=16),\r\n",
        "                                activation='relu'\r\n",
        "                            ),\r\n",
        "                            keras.layers.Dense(10,activation='softmax')\r\n",
        "                          ])\r\n",
        "  model.compile(optimizer=keras.optimizers.Adam(hp.Choice('learning_rate',values=[1e-2,1e-3])),\r\n",
        "                loss='sparse_categorical_crossentropy',\r\n",
        "                metrics=['accuracy'])\r\n",
        "  return model"
      ],
      "execution_count": null,
      "outputs": []
    },
    {
      "cell_type": "code",
      "metadata": {
        "id": "4mL51bF3VCxW"
      },
      "source": [
        "# Random Search will find out which parameter will be best.\r\n",
        "from kerastuner import RandomSearch\r\n",
        "from kerastuner.engine.hyperparameters import HyperParameters"
      ],
      "execution_count": null,
      "outputs": []
    },
    {
      "cell_type": "code",
      "metadata": {
        "id": "QM_mkWaAVWEs"
      },
      "source": [
        "tuner_search=RandomSearch(build_model, objective='val_accuracy', max_trials=5, directory='output', project_name=\"Mnist_Fashion\")"
      ],
      "execution_count": null,
      "outputs": []
    },
    {
      "cell_type": "code",
      "metadata": {
        "colab": {
          "base_uri": "https://localhost:8080/"
        },
        "id": "jv-xPJFKVtIv",
        "outputId": "86de7c1f-01bf-4212-d652-b4312ec34cc8"
      },
      "source": [
        "#run a search function to find best pararme\r\n",
        "tuner_search.search(train_images,train_labels,epochs=3, validation_split=0.1)"
      ],
      "execution_count": null,
      "outputs": [
        {
          "output_type": "stream",
          "text": [
            "Trial 1 Complete [00h 31m 42s]\n",
            "val_accuracy: 0.9006666541099548\n",
            "\n",
            "Best val_accuracy So Far: 0.9006666541099548\n",
            "Total elapsed time: 00h 31m 42s\n",
            "\n",
            "Search: Running Trial #2\n",
            "\n",
            "Hyperparameter    |Value             |Best Value So Far \n",
            "conv1_filter      |80                |80                \n",
            "conv1_kernel      |3                 |5                 \n",
            "conv2_filter      |64                |96                \n",
            "conv2_kernel      |5                 |5                 \n",
            "dense1_units      |112               |96                \n",
            "learning_rate     |0.001             |0.001             \n",
            "\n",
            "Epoch 1/3\n",
            "1117/1688 [==================>...........] - ETA: 3:09 - loss: 0.5787 - accuracy: 0.7920"
          ],
          "name": "stdout"
        }
      ]
    },
    {
      "cell_type": "code",
      "metadata": {
        "id": "f6uoF4uwV-ZC"
      },
      "source": [
        "model=tuner_search.get_best_models(num_models=1)[0]"
      ],
      "execution_count": null,
      "outputs": []
    },
    {
      "cell_type": "code",
      "metadata": {
        "id": "7LvdJWJ2WdXz"
      },
      "source": [
        "#Get the best model selscted\r\n",
        "model.summary()"
      ],
      "execution_count": null,
      "outputs": []
    },
    {
      "cell_type": "code",
      "metadata": {
        "id": "GNMBAz4EWmB7"
      },
      "source": [
        "#Retrain all the images with the best model that we got to know\r\n",
        "model.fit(train_images, train_labels, epochs=10, validation_split=0.1, initial_epoch=3)"
      ],
      "execution_count": null,
      "outputs": []
    },
    {
      "cell_type": "code",
      "metadata": {
        "id": "_iGsHctMXBUL"
      },
      "source": [
        ""
      ],
      "execution_count": null,
      "outputs": []
    }
  ]
}